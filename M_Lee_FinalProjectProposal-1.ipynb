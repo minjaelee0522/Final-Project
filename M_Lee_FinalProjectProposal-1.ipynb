{
 "cells": [
  {
   "cell_type": "markdown",
   "id": "3bff780e",
   "metadata": {},
   "source": [
    "# Sentimental Analysis of Amazon's beauty products"
   ]
  },
  {
   "cell_type": "markdown",
   "id": "70afebc9",
   "metadata": {},
   "source": [
    "## Introduction"
   ]
  },
  {
   "cell_type": "markdown",
   "id": "1c12a33d",
   "metadata": {},
   "source": [
    "I am currently working as a data analyst at a beauty e-commerce company. I reported to my current company that there were problems with customer service by analyzing customer reviews and it led to a significant change in retention rate and churn rate. I decided to do a project on sentiment analysis that I can apply to my current company.   \n",
    "In recent years, online product reviews have become an important source of information for consumers to make informed purchasing decisions. Amazon, being the world's largest online retailer, has a massive collection of customer reviews. This proposal aims to investigate products with significant rating drops on Amazon through sentiment analysis of customer reviews to understand the reasons behind these drops."
   ]
  },
  {
   "cell_type": "markdown",
   "id": "13a103b9",
   "metadata": {},
   "source": [
    "## Research Questions"
   ]
  },
  {
   "cell_type": "markdown",
   "id": "9ed63353",
   "metadata": {},
   "source": [
    "a) What are the common themes identified in customer reviews for products with significant rating drops on Amazon?  \n",
    "b) Can sentiment analysis of customer reviews be used to predict rating drops for products on Amazon?  \n",
    "c) How will this project drive positive change?\n",
    "The results of this research can be useful for product manufacturers and sellers to identify and address customer concerns and issues with their products. By taking prompt actions to resolve these concerns, manufacturers and sellers can improve their products' ratings and maintain customer satisfaction."
   ]
  },
  {
   "cell_type": "markdown",
   "id": "0ad55e56",
   "metadata": {},
   "source": [
    "## Data to be Used"
   ]
  },
  {
   "cell_type": "markdown",
   "id": "90535214",
   "metadata": {},
   "source": [
    "Raw text data for Amazon's beauty products review containing 9 features was downloaded from the UCSD repository which is shared with the public for research purposes. And I will scrapped Amazon beauty products data 7 features extracted from 2022.\n",
    "1) UCSD: [https://cseweb.ucsd.edu/~jmcauley/datasets.html#amazon_reviews](https://cseweb.ucsd.edu/~jmcauley/datasets.html#amazon_reviews)  \n",
    "2) Web scrapping review data: [https://www.amazon.com/](https://www.amazon.com/)"
   ]
  },
  {
   "cell_type": "markdown",
   "id": "315278e4",
   "metadata": {},
   "source": [
    "## Approach"
   ]
  },
  {
   "cell_type": "markdown",
   "id": "466c8bb7",
   "metadata": {},
   "source": [
    "I will begin by collecting and preprocessing the data. I will clean the data by removing irrelevant information such as product descriptions and extracting only the customer reviews. Then I will perform sentiment analysis using natural language processing techniques to identify the underlying sentiments expressed in the reviews. I will use NLTK, TextBlob, and Sciki-Learn. I will use the TextBlob's polarity and subjectivity classification features to distinguish between improved and dropped ratings for each beauty product. And I will extract data using CountVectorizer, TfidVectorize and train sentiment analysis model on data using Naive Bayes, Support Vector Machines. I will also use topic modeling techniques to identify the common themes and topics in the reviews. I will use statistical analysis methods to analyze the data and identify patterns and trends. Finally, I will visualize the results using various graphical representations to provide a clear understanding of the data."
   ]
  },
  {
   "cell_type": "code",
   "execution_count": null,
   "id": "2793d2e1",
   "metadata": {},
   "outputs": [],
   "source": []
  }
 ],
 "metadata": {
  "kernelspec": {
   "display_name": "Python 3 (ipykernel)",
   "language": "python",
   "name": "python3"
  },
  "language_info": {
   "codemirror_mode": {
    "name": "ipython",
    "version": 3
   },
   "file_extension": ".py",
   "mimetype": "text/x-python",
   "name": "python",
   "nbconvert_exporter": "python",
   "pygments_lexer": "ipython3",
   "version": "3.9.7"
  }
 },
 "nbformat": 4,
 "nbformat_minor": 5
}
